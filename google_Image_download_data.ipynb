{
  "cells": [
    {
      "cell_type": "markdown",
      "metadata": {
        "colab_type": "text",
        "id": "view-in-github"
      },
      "source": [
        "<a href=\"https://colab.research.google.com/github/Tinny-Robot/Live-Object-Detection-with-Camera/blob/main/google_Image_download_data.ipynb\" target=\"_parent\"><img src=\"https://colab.research.google.com/assets/colab-badge.svg\" alt=\"Open In Colab\"/></a>"
      ]
    },
    {
      "cell_type": "code",
      "execution_count": null,
      "metadata": {
        "colab": {
          "base_uri": "https://localhost:8080/"
        },
        "id": "BpgYF5HAii2Z",
        "outputId": "0c4aba5f-3050-4e72-f36a-28bc95e8a8d7"
      },
      "outputs": [],
      "source": [
        "!sudo apt-get -q install python3-magic "
      ]
    },
    {
      "cell_type": "code",
      "execution_count": 6,
      "metadata": {
        "colab": {
          "base_uri": "https://localhost:8080/"
        },
        "id": "Wfz6pNc5Y_sq",
        "outputId": "bd819d35-9745-4508-c58e-0ee680ff33a1"
      },
      "outputs": [
        {
          "name": "stdout",
          "output_type": "stream",
          "text": [
            "Collecting simple-image-download==0.4\n",
            "  Using cached simple_image_download-0.4-py3-none-any.whl (4.9 kB)\n",
            "Installing collected packages: simple-image-download\n",
            "Successfully installed simple-image-download-0.4\n"
          ]
        }
      ],
      "source": [
        "!pip install simple-image-download==0.4 --no-deps"
      ]
    },
    {
      "cell_type": "code",
      "execution_count": 12,
      "metadata": {
        "colab": {
          "base_uri": "https://localhost:8080/"
        },
        "id": "HDBisWqqfaLs",
        "outputId": "98cf37ba-a240-45f4-f3a4-d065ee1d9ec7"
      },
      "outputs": [
        {
          "name": "stderr",
          "output_type": "stream",
          "text": [
            "[========================================================================] 100%\n",
            "[========================================================================] 100%\n",
            "[========================================================================] 100%\n",
            "[========================================================================] 100%\n",
            "[========================================================================] 100%\n",
            "[========================================================================] 100%\n",
            "[========================================================================] 100%\n",
            "[========================================================================] 100%\n",
            "[========================================================================] 100%\n",
            "[========================================================================] 100%\n"
          ]
        }
      ],
      "source": [
        "from simple_image_download import simple_image_download as simp\n",
        "\n",
        "response = simp.simple_image_download()\n",
        "keywords = [\n",
        "    \"Abuja wedding venue interior\",\n",
        "    \"Abuja event hall\",\n",
        "    \"Abuja banquet hall\",\n",
        "    \"Abuja wedding reception venue\",\n",
        "    \"Abuja event space\",\n",
        "    \"Abuja wedding hall decoration\",\n",
        "    \"Abuja event venue setup\",\n",
        "    \"Abuja ballroom wedding\",\n",
        "    \"Abuja outdoor wedding venue\",\n",
        "    \"Abuja luxury wedding venue\"\n",
        "]\n",
        "for i in keywords:\n",
        "  response.download(i, 30)\n"
      ]
    },
    {
      "cell_type": "code",
      "execution_count": null,
      "metadata": {
        "id": "KSS8RibOaplr"
      },
      "outputs": [],
      "source": []
    }
  ],
  "metadata": {
    "colab": {
      "authorship_tag": "ABX9TyPaVOSu0Z6XmmMxsH6qE/5R",
      "include_colab_link": true,
      "mount_file_id": "1yHz570kpL5wAmna-5lltOfjOFaMWWrPy",
      "provenance": []
    },
    "kernelspec": {
      "display_name": "Python 3",
      "name": "python3"
    },
    "language_info": {
      "name": "python"
    }
  },
  "nbformat": 4,
  "nbformat_minor": 0
}
