{
  "nbformat": 4,
  "nbformat_minor": 0,
  "metadata": {
    "colab": {
      "provenance": [],
      "mount_file_id": "1yHz570kpL5wAmna-5lltOfjOFaMWWrPy",
      "authorship_tag": "ABX9TyPaVOSu0Z6XmmMxsH6qE/5R",
      "include_colab_link": true
    },
    "kernelspec": {
      "name": "python3",
      "display_name": "Python 3"
    },
    "language_info": {
      "name": "python"
    }
  },
  "cells": [
    {
      "cell_type": "markdown",
      "metadata": {
        "id": "view-in-github",
        "colab_type": "text"
      },
      "source": [
        "<a href=\"https://colab.research.google.com/github/Tinny-Robot/Live-Object-Detection-with-Camera/blob/main/google_Image_download_data.ipynb\" target=\"_parent\"><img src=\"https://colab.research.google.com/assets/colab-badge.svg\" alt=\"Open In Colab\"/></a>"
      ]
    },
    {
      "cell_type": "code",
      "source": [
        "!sudo apt-get install python3-magic"
      ],
      "metadata": {
        "colab": {
          "base_uri": "https://localhost:8080/"
        },
        "id": "BpgYF5HAii2Z",
        "outputId": "0c4aba5f-3050-4e72-f36a-28bc95e8a8d7"
      },
      "execution_count": 8,
      "outputs": [
        {
          "output_type": "stream",
          "name": "stdout",
          "text": [
            "Reading package lists... Done\n",
            "Building dependency tree... Done\n",
            "Reading state information... Done\n",
            "The following NEW packages will be installed:\n",
            "  python3-magic\n",
            "0 upgraded, 1 newly installed, 0 to remove and 46 not upgraded.\n",
            "Need to get 12.6 kB of archives.\n",
            "After this operation, 52.2 kB of additional disk space will be used.\n",
            "Get:1 http://archive.ubuntu.com/ubuntu jammy/main amd64 python3-magic all 2:0.4.24-2 [12.6 kB]\n",
            "Fetched 12.6 kB in 0s (75.6 kB/s)\n",
            "debconf: unable to initialize frontend: Dialog\n",
            "debconf: (No usable dialog-like program is installed, so the dialog based frontend cannot be used. at /usr/share/perl5/Debconf/FrontEnd/Dialog.pm line 78, <> line 1.)\n",
            "debconf: falling back to frontend: Readline\n",
            "debconf: unable to initialize frontend: Readline\n",
            "debconf: (This frontend requires a controlling tty.)\n",
            "debconf: falling back to frontend: Teletype\n",
            "dpkg-preconfigure: unable to re-open stdin: \n",
            "Selecting previously unselected package python3-magic.\n",
            "(Reading database ... 121762 files and directories currently installed.)\n",
            "Preparing to unpack .../python3-magic_2%3a0.4.24-2_all.deb ...\n",
            "Unpacking python3-magic (2:0.4.24-2) ...\n",
            "Setting up python3-magic (2:0.4.24-2) ...\n"
          ]
        }
      ]
    },
    {
      "cell_type": "code",
      "execution_count": 6,
      "metadata": {
        "colab": {
          "base_uri": "https://localhost:8080/"
        },
        "id": "Wfz6pNc5Y_sq",
        "outputId": "bd819d35-9745-4508-c58e-0ee680ff33a1"
      },
      "outputs": [
        {
          "output_type": "stream",
          "name": "stdout",
          "text": [
            "Collecting simple-image-download==0.4\n",
            "  Using cached simple_image_download-0.4-py3-none-any.whl (4.9 kB)\n",
            "Installing collected packages: simple-image-download\n",
            "Successfully installed simple-image-download-0.4\n"
          ]
        }
      ],
      "source": [
        "!pip install simple-image-download==0.4 --no-deps"
      ]
    },
    {
      "cell_type": "code",
      "source": [
        "from simple_image_download import simple_image_download as simp\n",
        "\n",
        "response = simp.simple_image_download()\n",
        "keywords = [\n",
        "    \"Abuja wedding venue interior\",\n",
        "    \"Abuja event hall\",\n",
        "    \"Abuja banquet hall\",\n",
        "    \"Abuja wedding reception venue\",\n",
        "    \"Abuja event space\",\n",
        "    \"Abuja wedding hall decoration\",\n",
        "    \"Abuja event venue setup\",\n",
        "    \"Abuja ballroom wedding\",\n",
        "    \"Abuja outdoor wedding venue\",\n",
        "    \"Abuja luxury wedding venue\"\n",
        "]\n",
        "for i in keywords:\n",
        "  response.download(i, 30)\n",
        ""
      ],
      "metadata": {
        "colab": {
          "base_uri": "https://localhost:8080/"
        },
        "id": "HDBisWqqfaLs",
        "outputId": "98cf37ba-a240-45f4-f3a4-d065ee1d9ec7"
      },
      "execution_count": 12,
      "outputs": [
        {
          "output_type": "stream",
          "name": "stderr",
          "text": [
            "[========================================================================] 100%\n",
            "[========================================================================] 100%\n",
            "[========================================================================] 100%\n",
            "[========================================================================] 100%\n",
            "[========================================================================] 100%\n",
            "[========================================================================] 100%\n",
            "[========================================================================] 100%\n",
            "[========================================================================] 100%\n",
            "[========================================================================] 100%\n",
            "[========================================================================] 100%\n"
          ]
        }
      ]
    },
    {
      "cell_type": "code",
      "source": [],
      "metadata": {
        "id": "KSS8RibOaplr"
      },
      "execution_count": null,
      "outputs": []
    }
  ]
}