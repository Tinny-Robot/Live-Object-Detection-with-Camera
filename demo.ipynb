{
 "cells": [
  {
   "cell_type": "code",
   "execution_count": null,
   "metadata": {},
   "outputs": [],
   "source": [
    "# importing lybraries\n",
    "import cv2\n",
    "import supervision as sv\n",
    "from ultralytics import YOLO"
   ]
  },
  {
   "cell_type": "code",
   "execution_count": null,
   "metadata": {},
   "outputs": [],
   "source": [
    "def live_object_detection():\n",
    "    '''Function for the live detection'''\n",
    "\n",
    "    # Initialize the camera\n",
    "    cap = cv2.VideoCapture(0)\n",
    "\n",
    "    # Load YOLO model\n",
    "    model = YOLO(\"yolov8n.pt\")\n",
    "\n",
    "    # Initialize the box annotator for visualizing detections\n",
    "    box_annotator = sv.BoxAnnotator(\n",
    "        thickness=2,\n",
    "        text_thickness=2,\n",
    "        text_scale=1\n",
    "    )\n",
    "\n",
    "    # Main loop for live object detection\n",
    "    while True:\n",
    "        # Capture a frame from the camera\n",
    "        ret, frame = cap.read()\n",
    "\n",
    "        # Perform object detection using YOLO\n",
    "        data = model(frame)\n",
    "        detection = sv.Detections.from_yolov8(data[0])\n",
    "\n",
    "        # Extract labels and confidence scores for the detected objects\n",
    "        label = [f\"{model.model.names[ci]} {con:0.2f}\"\n",
    "                 for _, _, con, ci, _ in detection]\n",
    "\n",
    "        # Check if the frame was captured successfully\n",
    "        if not ret:\n",
    "            print(\"Error: Failed to grab frame.\")\n",
    "            break\n",
    "\n",
    "        # Annotate the frame with bounding boxes and labels\n",
    "        frame = box_annotator.annotate(scene=frame, detections=detection, labels=label)\n",
    "\n",
    "        # Display the live camera feed with object detection annotations\n",
    "        cv2.imshow(\"Live Object Detection\", frame)\n",
    "\n",
    "        # Exit the loop if the 'q' key is pressed\n",
    "        if cv2.waitKey(1) & 0xFF == ord('q'):\n",
    "            break\n",
    "\n",
    "    # Release the camera and close the OpenCV window\n",
    "    cap.release()\n",
    "    cv2.destroyAllWindows()"
   ]
  },
  {
   "cell_type": "code",
   "execution_count": null,
   "metadata": {},
   "outputs": [],
   "source": [
    "live_object_detection()"
   ]
  }
 ],
 "metadata": {
  "kernelspec": {
   "display_name": "base",
   "language": "python",
   "name": "python3"
  },
  "language_info": {
   "codemirror_mode": {
    "name": "ipython",
    "version": 3
   },
   "file_extension": ".py",
   "mimetype": "text/x-python",
   "name": "python",
   "nbconvert_exporter": "python",
   "pygments_lexer": "ipython3",
   "version": "3.10.9"
  },
  "orig_nbformat": 4
 },
 "nbformat": 4,
 "nbformat_minor": 2
}
